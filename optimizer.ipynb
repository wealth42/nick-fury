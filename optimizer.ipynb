{
  "nbformat": 4,
  "nbformat_minor": 0,
  "metadata": {
    "colab": {
      "name": "optimizer.ipynb",
      "provenance": []
    },
    "kernelspec": {
      "display_name": "Python 3",
      "name": "python3"
    }
  },
  "cells": [
    {
      "cell_type": "code",
      "metadata": {
        "id": "w0FWq-7ZyOp-",
        "outputId": "b367f793-7130-4e2a-c739-af17f6288df6",
        "colab": {
          "base_uri": "https://localhost:8080/",
          "height": 102
        }
      },
      "source": [
        "!pip install pyomo"
      ],
      "execution_count": null,
      "outputs": [
        {
          "output_type": "stream",
          "text": [
            "Requirement already satisfied: pyomo in /usr/local/lib/python3.6/dist-packages (5.7.1)\n",
            "Requirement already satisfied: six>=1.4 in /usr/local/lib/python3.6/dist-packages (from pyomo) (1.15.0)\n",
            "Requirement already satisfied: PyUtilib>=6.0 in /usr/local/lib/python3.6/dist-packages (from pyomo) (6.0.0)\n",
            "Requirement already satisfied: ply in /usr/local/lib/python3.6/dist-packages (from pyomo) (3.11)\n",
            "Requirement already satisfied: nose in /usr/local/lib/python3.6/dist-packages (from PyUtilib>=6.0->pyomo) (1.3.7)\n"
          ],
          "name": "stdout"
        }
      ]
    },
    {
      "cell_type": "markdown",
      "metadata": {
        "id": "5woYyU0iiFbP"
      },
      "source": [
        "**Importing various libraries required for the assignment**"
      ]
    },
    {
      "cell_type": "code",
      "metadata": {
        "id": "83SjvBARylN6"
      },
      "source": [
        "from pyomo.environ import *\n",
        "from pyomo.opt import SolverFactory"
      ],
      "execution_count": null,
      "outputs": []
    },
    {
      "cell_type": "markdown",
      "metadata": {
        "id": "iQJG7R-Qjj_-"
      },
      "source": [
        "**Declaring various variables**\n",
        "1 . **days** : List containing days Monday to Saturday,\n",
        "2 . **slots** : List containing three batches,\n",
        "3 . **lectures** : List containing five lectures for a particular batch,\n",
        "4 . **Teachers** : List containing five teacher names,\n",
        "5 . **slot_in_Batch** : Dictionary containing slots as keys and lectures as values,\n",
        "6 . **day_slots** : Dictionary containing day as keys and slots as values,\n",
        "7 . **pref** : Dictionary as described in the problem statement containing preferences of each teachers on each day of a week ."
      ]
    },
    {
      "cell_type": "code",
      "metadata": {
        "id": "uRAy_NCAjHrA"
      },
      "source": [
        "days = ['Mon','Tue','Wed','Thu','Fri','Sat']\n",
        "slots = ['Batch1','Batch2','Batch3']\n",
        "lectures = ['lec'+str(i) for i in range(1,6)]\n",
        "slot_in_Batch={slot: lectures for slot in slots}\n",
        "day_slots = {day: slots for day in days}\n",
        "Teachers = ['T'+ str(i) for i in range(1,6)]\n",
        "pref = {'T1':{'Mon':10,'Tue':7,'Wed':9,'Thu':5,'Fri':4,'Sat':1},'T2':{'Mon':6,'Tue':10,'Wed':8,'Thu':7,'Fri':3,'Sat':2},'T3':{'Mon':5,'Tue':6,'Wed':7,'Thu':10,'Fri':9,'Sat':8},'T4':{'Mon':3,'Tue':8,'Wed':10,'Thu':7,'Fri':8,'Sat':3},'T5':{'Mon':4,'Tue':6,'Wed':9,'Thu':8,'Fri':10,'Sat':1}}"
      ],
      "execution_count": null,
      "outputs": []
    },
    {
      "cell_type": "markdown",
      "metadata": {
        "id": "CD5C2pRhnf8Z"
      },
      "source": [
        "**Declaring ConcreteModel and adding a binary variable 'teachers' to the model, it defines if a teacher is available at a particular lecture at a particular slot at a particular day**"
      ]
    },
    {
      "cell_type": "code",
      "metadata": {
        "id": "YeJvKgqZB7-V"
      },
      "source": [
        "model = ConcreteModel()\n",
        "model.teachers = Var(((teacher,day,slot,lect) for teacher in Teachers for day in days for slot in day_slots[day] for lect in slot_in_Batch[slot]),within=Binary, initialize=0)"
      ],
      "execution_count": null,
      "outputs": []
    },
    {
      "cell_type": "markdown",
      "metadata": {
        "id": "SPNIeiqcpcrq"
      },
      "source": [
        "**Declaring the objective of the optimization problem and adding it to the model**"
      ]
    },
    {
      "cell_type": "code",
      "metadata": {
        "id": "TuYsjPKCDNCv"
      },
      "source": [
        "def obj_rule(m):\n",
        "  h = len(Teachers)\n",
        "  return sum(pref[teacher][day]*m.teachers[teacher,day,slot,batch] for teacher in Teachers for day in days for slot in day_slots[day] for batch in slot_in_Batch[slot])\n",
        "model.obj = Objective(rule=obj_rule, sense=maximize)"
      ],
      "execution_count": null,
      "outputs": []
    },
    {
      "cell_type": "markdown",
      "metadata": {
        "id": "-SVLSvN7ptuk"
      },
      "source": [
        "**Declaring empty list of constraints for the model**"
      ]
    },
    {
      "cell_type": "code",
      "metadata": {
        "id": "EcIxF7Jk6T3d"
      },
      "source": [
        "model.d= ConstraintList()"
      ],
      "execution_count": null,
      "outputs": []
    },
    {
      "cell_type": "markdown",
      "metadata": {
        "id": "lQzPKSw0p_cq"
      },
      "source": [
        "**Adding various constraints to the list of constraints**"
      ]
    },
    {
      "cell_type": "code",
      "metadata": {
        "id": "-tdI84TMLzVB"
      },
      "source": [
        "#Constraint-\"Every batch of students must get at least 5 lectures of each subject, every week\".\n",
        "for teacher in Teachers:\n",
        "  for batch in slots:\n",
        "      model.d.add(sum(model.teachers[teacher,day,batch,lect] for day in days for lect in slot_in_Batch[batch])>=5)\n",
        "#Constraint-\"There will not be same teacher in same slot for three batches of students\".\n",
        "for teacher in Teachers:\n",
        "  for day in days:\n",
        "    for lect in lectures:\n",
        "      model.d.add(sum(model.teachers[teacher,day,slot,lect] for slot in day_slots[day])<=1)\n",
        "#Constraint-\"There are 5 lectures each day for all batches\".\n",
        "for day in days:\n",
        "      for slot in day_slots[day]:\n",
        "        for batch in slot_in_Batch[slot]:\n",
        "          model.d.add(sum(model.teachers[teacher,day,slot,batch] for teacher in Teachers )==1)\n",
        "#Constraint-\"Teachers are not allowed to have more than 2 lectures in a day for a class\".\n",
        "for teacher in Teachers:\n",
        "    for day in days:\n",
        "       for slot in day_slots[day]:\n",
        "          model.d.add(sum(model.teachers[teacher,day,slot,batch] for batch in slot_in_Batch[slot] )<=2)"
      ],
      "execution_count": null,
      "outputs": []
    },
    {
      "cell_type": "markdown",
      "metadata": {
        "id": "wcrLASqPqmYK"
      },
      "source": [
        "**Declaring the solver and obtainining the result of the optimization problem using that solver**"
      ]
    },
    {
      "cell_type": "code",
      "metadata": {
        "id": "9ngt9jV6VeLa",
        "colab": {
          "background_save": true
        }
      },
      "source": [
        "opt = SolverFactory('cbc')\n",
        "solver_manager = SolverManagerFactory('neos')\n",
        "results = solver_manager.solve(model, opt=opt) "
      ],
      "execution_count": null,
      "outputs": []
    },
    {
      "cell_type": "markdown",
      "metadata": {
        "id": "JXs1I5ZUq-Vb"
      },
      "source": [
        "**Getting the final timetable after the completion of the optimization**"
      ]
    },
    {
      "cell_type": "code",
      "metadata": {
        "id": "oKp0mAhFcddY",
        "outputId": "7130798e-b434-40e7-fea8-6ef692e722d4",
        "colab": {
          "base_uri": "https://localhost:8080/",
          "height": 54
        }
      },
      "source": [
        "def get_time_table(teachers):\n",
        "    week_table = {day: {slot: {batch:[] for batch in slot_in_Batch[slot]} for slot in day_slots[day]} for day in days}\n",
        "    for teacher in Teachers:\n",
        "        for day in days:\n",
        "            for slot in day_slots[day]:\n",
        "              for batch in slot_in_Batch[slot]:\n",
        "                  if teachers[teacher, day, slot,batch].value == 1:\n",
        "                        week_table[day][slot][batch].append(teacher)\n",
        "    return week_table\n",
        "week_table = get_time_table(model.teachers)\n",
        "print(week_table)"
      ],
      "execution_count": null,
      "outputs": [
        {
          "output_type": "stream",
          "text": [
            "{'Mon': {'Batch1': {'lec1': ['T2'], 'lec2': ['T3'], 'lec3': ['T1'], 'lec4': ['T2'], 'lec5': ['T1']}, 'Batch2': {'lec1': ['T2'], 'lec2': ['T1'], 'lec3': ['T3'], 'lec4': ['T1'], 'lec5': ['T2']}, 'Batch3': {'lec1': ['T2'], 'lec2': ['T1'], 'lec3': ['T3'], 'lec4': ['T1'], 'lec5': ['T2']}}, 'Tue': {'Batch1': {'lec1': ['T4'], 'lec2': ['T2'], 'lec3': ['T2'], 'lec4': ['T1'], 'lec5': ['T4']}, 'Batch2': {'lec1': ['T1'], 'lec2': ['T4'], 'lec3': ['T4'], 'lec4': ['T2'], 'lec5': ['T2']}, 'Batch3': {'lec1': ['T2'], 'lec2': ['T4'], 'lec3': ['T1'], 'lec4': ['T4'], 'lec5': ['T2']}}, 'Wed': {'Batch1': {'lec1': ['T4'], 'lec2': ['T4'], 'lec3': ['T1'], 'lec4': ['T5'], 'lec5': ['T1']}, 'Batch2': {'lec1': ['T5'], 'lec2': ['T1'], 'lec3': ['T4'], 'lec4': ['T1'], 'lec5': ['T4']}, 'Batch3': {'lec1': ['T4'], 'lec2': ['T1'], 'lec3': ['T1'], 'lec4': ['T5'], 'lec5': ['T4']}}, 'Thu': {'Batch1': {'lec1': ['T3'], 'lec2': ['T5'], 'lec3': ['T2'], 'lec4': ['T3'], 'lec5': ['T5']}, 'Batch2': {'lec1': ['T3'], 'lec2': ['T3'], 'lec3': ['T2'], 'lec4': ['T5'], 'lec5': ['T5']}, 'Batch3': {'lec1': ['T2'], 'lec2': ['T3'], 'lec3': ['T3'], 'lec4': ['T5'], 'lec5': ['T5']}}, 'Fri': {'Batch1': {'lec1': ['T3'], 'lec2': ['T4'], 'lec3': ['T5'], 'lec4': ['T3'], 'lec5': ['T5']}, 'Batch2': {'lec1': ['T5'], 'lec2': ['T3'], 'lec3': ['T4'], 'lec4': ['T3'], 'lec5': ['T5']}, 'Batch3': {'lec1': ['T3'], 'lec2': ['T5'], 'lec3': ['T5'], 'lec4': ['T4'], 'lec5': ['T3']}}, 'Sat': {'Batch1': {'lec1': ['T3'], 'lec2': ['T4'], 'lec3': ['T3'], 'lec4': ['T2'], 'lec5': ['T4']}, 'Batch2': {'lec1': ['T4'], 'lec2': ['T3'], 'lec3': ['T4'], 'lec4': ['T2'], 'lec5': ['T3']}, 'Batch3': {'lec1': ['T4'], 'lec2': ['T2'], 'lec3': ['T3'], 'lec4': ['T3'], 'lec5': ['T4']}}}\n"
          ],
          "name": "stdout"
        }
      ]
    }
  ]
}