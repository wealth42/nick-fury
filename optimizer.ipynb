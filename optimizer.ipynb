{
 "cells": [
  {
   "cell_type": "code",
   "execution_count": 10,
   "metadata": {
    "colab": {
     "base_uri": "https://localhost:8080/",
     "height": 102
    },
    "id": "w0FWq-7ZyOp-",
    "outputId": "7717ab97-0527-4e30-bf8a-e1130fefe7f5"
   },
   "outputs": [
    {
     "name": "stdout",
     "output_type": "stream",
     "text": [
      "Requirement already satisfied: pyomo in /usr/local/lib/python3.6/dist-packages (5.7.1)\n",
      "Requirement already satisfied: six>=1.4 in /usr/local/lib/python3.6/dist-packages (from pyomo) (1.15.0)\n",
      "Requirement already satisfied: PyUtilib>=6.0 in /usr/local/lib/python3.6/dist-packages (from pyomo) (6.0.0)\n",
      "Requirement already satisfied: ply in /usr/local/lib/python3.6/dist-packages (from pyomo) (3.11)\n",
      "Requirement already satisfied: nose in /usr/local/lib/python3.6/dist-packages (from PyUtilib>=6.0->pyomo) (1.3.7)\n"
     ]
    }
   ],
   "source": [
    "!pip install pyomo"
   ]
  },
  {
   "cell_type": "markdown",
   "metadata": {
    "id": "5woYyU0iiFbP"
   },
   "source": [
    "**Importing various libraries required for the assignment**"
   ]
  },
  {
   "cell_type": "code",
   "execution_count": 2,
   "metadata": {
    "id": "83SjvBARylN6"
   },
   "outputs": [],
   "source": [
    "from pyomo.environ import *\n",
    "from pyomo.opt import SolverFactory"
   ]
  },
  {
   "cell_type": "markdown",
   "metadata": {
    "id": "iQJG7R-Qjj_-"
   },
   "source": [
    "**Declaring various variables**\n",
    "1 . **days** : List containing days Monday to Saturday,\n",
    "2 . **slots** : List containing three batches,\n",
    "3 . **lectures** : List containing five lectures for a particular batch,\n",
    "4 . **Teachers** : List containing five teacher names,\n",
    "5 . **slot_in_Batch** : Dictionary containing slots as keys and lectures as values,\n",
    "6 . **day_slots** : Dictionary containing day as keys and slots as values,\n",
    "7 . **pref** : Dictionary as described in the problem statement containing preferences of each teachers on each day of a week . You can also modify the preferences of the teacher by changing the numbers ."
   ]
  },
  {
   "cell_type": "code",
   "execution_count": null,
   "metadata": {
    "id": "uRAy_NCAjHrA"
   },
   "outputs": [],
   "source": [
    "days = ['Mon','Tue','Wed','Thu','Fri','Sat']\n",
    "slots = ['Batch1','Batch2','Batch3']\n",
    "lectures = ['lec'+str(i) for i in range(1,6)]\n",
    "slot_in_Batch={slot: lectures for slot in slots}\n",
    "day_slots = {day: slots for day in days}\n",
    "Teachers = ['T'+ str(i) for i in range(1,6)]\n",
    "pref = {'T1':{'Mon':10,'Tue':7,'Wed':9,'Thu':5,'Fri':4,'Sat':1},'T2':{'Mon':6,'Tue':10,'Wed':8,'Thu':7,'Fri':3,'Sat':2},'T3':{'Mon':5,'Tue':6,'Wed':7,'Thu':10,'Fri':9,'Sat':8},'T4':{'Mon':3,'Tue':8,'Wed':10,'Thu':7,'Fri':8,'Sat':3},'T5':{'Mon':4,'Tue':6,'Wed':9,'Thu':8,'Fri':10,'Sat':1}}"
   ]
  },
  {
   "cell_type": "markdown",
   "metadata": {
    "id": "CD5C2pRhnf8Z"
   },
   "source": [
    "**Declaring ConcreteModel and adding a binary variable 'teachers' to the model, it defines if a teacher is available at a particular lecture at a particular slot at a particular day**"
   ]
  },
  {
   "cell_type": "code",
   "execution_count": 3,
   "metadata": {
    "id": "YeJvKgqZB7-V"
   },
   "outputs": [],
   "source": [
    "model = ConcreteModel()\n",
    "model.teachers = Var(((teacher,day,slot,lect) for teacher in Teachers for day in days for slot in day_slots[day] for lect in slot_in_Batch[slot]),within=Binary, initialize=0)"
   ]
  },
  {
   "cell_type": "markdown",
   "metadata": {
    "id": "SPNIeiqcpcrq"
   },
   "source": [
    "**Declaring the objective of the optimization problem and adding it to the model**"
   ]
  },
  {
   "cell_type": "code",
   "execution_count": 4,
   "metadata": {
    "id": "TuYsjPKCDNCv"
   },
   "outputs": [],
   "source": [
    "def obj_rule(m):\n",
    "  h = len(Teachers)\n",
    "  return sum(pref[teacher][day]*m.teachers[teacher,day,slot,batch] for teacher in Teachers for day in days for slot in day_slots[day] for batch in slot_in_Batch[slot])\n",
    "model.obj = Objective(rule=obj_rule, sense=maximize)"
   ]
  },
  {
   "cell_type": "markdown",
   "metadata": {
    "id": "-SVLSvN7ptuk"
   },
   "source": [
    "**Declaring empty list of constraints for the model**"
   ]
  },
  {
   "cell_type": "code",
   "execution_count": 5,
   "metadata": {
    "id": "EcIxF7Jk6T3d"
   },
   "outputs": [],
   "source": [
    "model.c = ConstraintList()"
   ]
  },
  {
   "cell_type": "markdown",
   "metadata": {
    "id": "lQzPKSw0p_cq"
   },
   "source": [
    "**Adding various constraints to the list of constraints**"
   ]
  },
  {
   "cell_type": "code",
   "execution_count": 6,
   "metadata": {
    "id": "-tdI84TMLzVB"
   },
   "outputs": [],
   "source": [
    "for teacher in Teachers:\n",
    "    for batch in slots:\n",
    "        model.d.add(sum(model.teachers[teacher,day,slot,lect] for day in days for lect in slot_in_Batch[batch])>=5)\n",
    "for day in days:\n",
    "      for slot in day_slots[day]:\n",
    "        for batch in slot_in_Batch[slot]:\n",
    "            model.c.add(sum(model.teachers[teacher,day,slot,batch] for teacher in Teachers )==1)\n",
    "for teacher in Teachers:\n",
    "    for day in days:\n",
    "        for slot in day_slots[day]:\n",
    "            model.c.add(sum(model.teachers[teacher,day,slot,batch] for batch in slot_in_Batch[slot] )<=2)"
   ]
  },
  {
   "cell_type": "markdown",
   "metadata": {
    "id": "wcrLASqPqmYK"
   },
   "source": [
    "**Declaring the solver and obtainining the result of the optimization problem using that solver**"
   ]
  },
  {
   "cell_type": "code",
   "execution_count": 7,
   "metadata": {
    "id": "9ngt9jV6VeLa"
   },
   "outputs": [],
   "source": [
    "opt = SolverFactory('cbc')\n",
    "solver_manager = SolverManagerFactory('neos')\n",
    "results = solver_manager.solve(model, opt=opt) "
   ]
  },
  {
   "cell_type": "markdown",
   "metadata": {
    "id": "JXs1I5ZUq-Vb"
   },
   "source": [
    "**Getting the final timetable after the completion of the optimization**"
   ]
  },
  {
   "cell_type": "code",
   "execution_count": 9,
   "metadata": {
    "colab": {
     "base_uri": "https://localhost:8080/",
     "height": 54
    },
    "id": "oKp0mAhFcddY",
    "outputId": "810d5278-02d3-4f68-d81b-e1da7fb174c3"
   },
   "outputs": [
    {
     "name": "stdout",
     "output_type": "stream",
     "text": [
      "{'Mon': {'Batch1': {'lec1': ['T2'], 'lec2': ['T3'], 'lec3': ['T1'], 'lec4': ['T2'], 'lec5': ['T1']}, 'Batch2': {'lec1': ['T2'], 'lec2': ['T1'], 'lec3': ['T3'], 'lec4': ['T1'], 'lec5': ['T2']}, 'Batch3': {'lec1': ['T2'], 'lec2': ['T1'], 'lec3': ['T3'], 'lec4': ['T1'], 'lec5': ['T2']}}, 'Tue': {'Batch1': {'lec1': ['T4'], 'lec2': ['T2'], 'lec3': ['T2'], 'lec4': ['T1'], 'lec5': ['T4']}, 'Batch2': {'lec1': ['T1'], 'lec2': ['T4'], 'lec3': ['T4'], 'lec4': ['T2'], 'lec5': ['T2']}, 'Batch3': {'lec1': ['T2'], 'lec2': ['T4'], 'lec3': ['T1'], 'lec4': ['T4'], 'lec5': ['T2']}}, 'Wed': {'Batch1': {'lec1': ['T4'], 'lec2': ['T5'], 'lec3': ['T1'], 'lec4': ['T5'], 'lec5': ['T4']}, 'Batch2': {'lec1': ['T5'], 'lec2': ['T5'], 'lec3': ['T4'], 'lec4': ['T1'], 'lec5': ['T4']}, 'Batch3': {'lec1': ['T4'], 'lec2': ['T1'], 'lec3': ['T4'], 'lec4': ['T5'], 'lec5': ['T5']}}, 'Thu': {'Batch1': {'lec1': ['T3'], 'lec2': ['T5'], 'lec3': ['T2'], 'lec4': ['T3'], 'lec5': ['T5']}, 'Batch2': {'lec1': ['T3'], 'lec2': ['T3'], 'lec3': ['T2'], 'lec4': ['T5'], 'lec5': ['T5']}, 'Batch3': {'lec1': ['T2'], 'lec2': ['T3'], 'lec3': ['T3'], 'lec4': ['T5'], 'lec5': ['T5']}}, 'Fri': {'Batch1': {'lec1': ['T3'], 'lec2': ['T4'], 'lec3': ['T5'], 'lec4': ['T3'], 'lec5': ['T5']}, 'Batch2': {'lec1': ['T5'], 'lec2': ['T3'], 'lec3': ['T4'], 'lec4': ['T3'], 'lec5': ['T5']}, 'Batch3': {'lec1': ['T3'], 'lec2': ['T5'], 'lec3': ['T5'], 'lec4': ['T4'], 'lec5': ['T3']}}, 'Sat': {'Batch1': {'lec1': ['T3'], 'lec2': ['T4'], 'lec3': ['T3'], 'lec4': ['T2'], 'lec5': ['T4']}, 'Batch2': {'lec1': ['T4'], 'lec2': ['T3'], 'lec3': ['T4'], 'lec4': ['T2'], 'lec5': ['T3']}, 'Batch3': {'lec1': ['T4'], 'lec2': ['T2'], 'lec3': ['T3'], 'lec4': ['T3'], 'lec5': ['T4']}}}\n"
     ]
    }
   ],
   "source": [
    "def get_time_table(teachers):\n",
    "    week_table = {day: {slot: {batch:[] for batch in slot_in_Batch[slot]} for slot in day_slots[day]} for day in days}\n",
    "    for teacher in Teachers:\n",
    "        for day in days:\n",
    "            for slot in day_slots[day]:\n",
    "              for batch in slot_in_Batch[slot]:\n",
    "                  if teachers[teacher, day, slot,batch].value == 1:\n",
    "                        week_table[day][slot][batch].append(teacher)\n",
    "    return week_table\n",
    "week_table = get_time_table(model.teachers)\n",
    "print(week_table)"
   ]
  }
 ],
 "metadata": {
  "colab": {
   "name": "optimizer.ipynb",
   "provenance": []
  },
  "kernelspec": {
   "display_name": "Python 3",
   "language": "python",
   "name": "python3"
  },
  "language_info": {
   "codemirror_mode": {
    "name": "ipython",
    "version": 3
   },
   "file_extension": ".py",
   "mimetype": "text/x-python",
   "name": "python",
   "nbconvert_exporter": "python",
   "pygments_lexer": "ipython3",
   "version": "3.7.3"
  }
 },
 "nbformat": 4,
 "nbformat_minor": 1
}
